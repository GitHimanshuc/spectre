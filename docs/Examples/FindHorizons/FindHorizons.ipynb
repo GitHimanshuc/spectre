{
 "cells": [
  {
   "cell_type": "markdown",
   "metadata": {},
   "source": [
    "# Finding apparent horizons in volume data {#examples_find_horizons}\n",
    "\n",
    "In this example we will generate some numeric volume data representing a Kerr\n",
    "black hole and then find its apparent horizon."
   ]
  },
  {
   "cell_type": "code",
   "execution_count": null,
   "metadata": {},
   "outputs": [],
   "source": [
    "# Distributed under the MIT License.\n",
    "# See LICENSE.txt for details.\n",
    "\n",
    "# Dependencies:\n",
    "%pip install numpy matplotlib pandas 'h5py>=3.0.0' ruamel.yaml"
   ]
  },
  {
   "cell_type": "code",
   "execution_count": 56,
   "metadata": {},
   "outputs": [],
   "source": [
    "import h5py\n",
    "import matplotlib.pyplot as plt\n",
    "import os\n",
    "import pandas as pd\n",
    "from pathlib import Path\n",
    "from copy import deepcopy\n",
    "from ruamel.yaml import YAML"
   ]
  },
  {
   "cell_type": "code",
   "execution_count": 57,
   "metadata": {},
   "outputs": [],
   "source": [
    "%%bash\n",
    "# Clean up output files from previous runs\n",
    "rm -f Kerr*.h5\n",
    "rm -f FindHorizons*.h5"
   ]
  },
  {
   "cell_type": "markdown",
   "metadata": {},
   "source": [
    "First, make sure you have compiled the `SolveXcts` and `FindHorizons3D`\n",
    "executables in `Release` mode. Put the path to your build directory below."
   ]
  },
  {
   "cell_type": "code",
   "execution_count": 58,
   "metadata": {},
   "outputs": [],
   "source": [
    "SPECTRE_BUILD_DIR = Path(\"/home/himanshu/Desktop/spectre/build-Shared_libs-Release\")\n",
    "SPECTRE_HOME = Path(\"/home/himanshu/Desktop/spectre\")"
   ]
  },
  {
   "cell_type": "markdown",
   "metadata": {},
   "source": [
    "## Generate Kerr volume data\n",
    "\n",
    "We run the `SolveXcts` executable to generate Kerr volume data. We could also\n",
    "just invoke the Kerr analytic solution and write the data to disk, but the\n",
    "`SolveXcts` executable already writes volume data in the correct format."
   ]
  },
  {
   "cell_type": "code",
   "execution_count": 59,
   "metadata": {},
   "outputs": [],
   "source": [
    "# Load example input file\n",
    "kerrschild_input_file_path = os.path.join(\n",
    "    SPECTRE_HOME, \"tests/InputFiles/Xcts/KerrSchild.yaml\"\n",
    ")\n",
    "yaml = YAML()\n",
    "with open(kerrschild_input_file_path, \"r\") as open_input_file:\n",
    "    kerr_input_file = list(yaml.load_all(open_input_file))\n",
    "\n",
    "    # Modify Kerr-Schild example input file\n",
    "    # - Set some interesting Kerr parameters\n",
    "    kerr_input_file[1][\"Background\"][\"KerrSchild\"] = dict(\n",
    "        Mass=1.0, Spin=[0.0, 0.0, 0.0], Center=[0.0, 0.0, 0.0]\n",
    "    )\n",
    "    # - Set the initial guess to the solution to converge quickly\n",
    "    kerr_input_file[1][\"InitialGuess\"] = kerr_input_file[1][\"Background\"]\n",
    "    # - Choose domain parameters\n",
    "    domain_params = kerr_input_file[1][\"DomainCreator\"][\"Sphere\"]\n",
    "    domain_params[\"InnerRadius\"] = 1.0\n",
    "    domain_params[\"InitialRefinement\"] = 0\n",
    "    domain_params[\"InitialGridPoints\"] = [8, 8, 8]\n",
    "\n",
    "    # Change boundary conditions to negative expansion boundary condition\n",
    "    IBC = domain_params[\"Interior\"][\"ExciseWithBoundaryCondition\"]\n",
    "    del IBC[\"AnalyticSolution\"]\n",
    "    IBC[\"ApparentHorizon\"] = {\n",
    "      \"Center\": [0. ,0. ,0.],\n",
    "      \"Rotation\": [0., 0., 0.],\n",
    "      \"Lapse\": kerr_input_file[1][\"Background\"],\n",
    "      \"NegativeExpansion\": kerr_input_file[1][\"Background\"]\n",
    "    }\n",
    "\n",
    "    # - Allow the elliptic solver to converge\n",
    "    kerr_input_file[1][\"NonlinearSolver\"][\"NewtonRaphson\"][\"ConvergenceCriteria\"][\n",
    "        \"MaxIterations\"\n",
    "    ] = 100\n",
    "    # - Set output file names\n",
    "    kerr_input_file[1][\"Observers\"][\"VolumeFileName\"] = \"KerrVolume\"\n",
    "    kerr_input_file[1][\"Observers\"][\"ReductionFileName\"] = \"KerrReductions\"\n",
    "\n",
    "# Write modified input file\n",
    "with open(\"Kerr.yaml\", \"w\") as open_input_file:\n",
    "    yaml.dump_all(kerr_input_file, open_input_file)"
   ]
  },
  {
   "cell_type": "code",
   "execution_count": 60,
   "metadata": {},
   "outputs": [
    {
     "name": "stdout",
     "output_type": "stream",
     "text": [
      "Charm++: standalone mode (not using charmrun)\n",
      "Charm++> Running in Multicore mode: 20 threads (PEs)\n",
      "Converse/Charm++ Commit ID: v7.0.0\n",
      "CharmLB> Load balancer assumes all CPUs are same.\n",
      "Charm++> Running on 1 hosts (1 sockets x 10 cores x 2 PUs = 20-way SMP)\n",
      "Charm++> cpu topology info is gathered in 0.002 seconds.\n",
      "\n",
      "Executing 'SolveXcts' using 20 processors.\n",
      "Launch command line: /home/himanshu/Desktop/spectre/build-Shared_libs-Release/bin/SolveXcts --input-file Kerr.yaml\n",
      "Charm++ startup time in seconds: 0.536004\n",
      "Date and time at startup: Fri Nov 10 00:17:08 2023\n",
      "\n",
      "SpECTRE Build Information:\n",
      "Version:                      2023.10.11\n",
      "Compiled on host:             0e335e144dbb\n",
      "Compiled in directory:        /home/himanshu/Desktop/spectre/build-Shared_libs-Release\n",
      "Source directory is:          /home/himanshu/Desktop/spectre\n",
      "Compiled on git branch:       develop\n",
      "Compiled on git revision:     006ed0ff93\n",
      "Linked on:                    Thu Oct  5 01:54:50 2023\n",
      "Build type:                   Release\n",
      "\n",
      "The following options differ from their suggested values:\n",
      "\n",
      "Option parsing completed.\n",
      "\n",
      "Allocating Singletons:\n",
      "ResidualMonitor on node 0, global proc 0, exclusive = false\n",
      "ResidualMonitor on node 0, global proc 1, exclusive = false\n",
      "\n",
      "Multigrid level 0 has 6 elements in 6 blocks distributed on 20 procs.\n",
      "Entering phase: Register at time 00:00:00\n",
      "Entering phase: Solve at time 00:00:00\n",
      "NewtonRaphson initialized with residual: 1.055989e-03\n",
      "Gmres initialized with residual: 1.055989e-03\n",
      "Gmres(1) iteration complete. Remaining residual: 2.332372e-05\n",
      "Gmres(2) iteration complete. Remaining residual: 1.711216e-05\n",
      "Gmres(3) iteration complete. Remaining residual: 1.407565e-05\n",
      "Gmres(4) iteration complete. Remaining residual: 5.783145e-06\n",
      "Gmres(5) iteration complete. Remaining residual: 2.880485e-06\n",
      "Gmres(6) iteration complete. Remaining residual: 1.037463e-06\n",
      "Gmres(7) iteration complete. Remaining residual: 3.171446e-07\n",
      "Gmres(8) iteration complete. Remaining residual: 2.756396e-07\n",
      "Gmres(9) iteration complete. Remaining residual: 5.255773e-08\n",
      "Gmres has converged in 9 iterations: RelativeResidual - The residual magnitude has decreased to a fraction of 0.0001 of its initial value or below (4.97711e-05).\n",
      "NewtonRaphson(1) iteration complete (0 globalization steps, step length 1). Remaining residual: 5.221719e-07\n",
      "Gmres initialized with residual: 5.221719e-07\n",
      "Gmres(1) iteration complete. Remaining residual: 6.351267e-08\n",
      "Gmres(2) iteration complete. Remaining residual: 6.299218e-08\n",
      "Gmres(3) iteration complete. Remaining residual: 5.800666e-08\n",
      "Gmres(4) iteration complete. Remaining residual: 4.223366e-08\n",
      "Gmres(5) iteration complete. Remaining residual: 3.927823e-08\n",
      "Gmres(6) iteration complete. Remaining residual: 3.851200e-08\n",
      "Gmres(7) iteration complete. Remaining residual: 1.943877e-08\n",
      "Gmres(8) iteration complete. Remaining residual: 1.488864e-08\n",
      "Gmres(9) iteration complete. Remaining residual: 3.892413e-09\n",
      "Gmres(10) iteration complete. Remaining residual: 9.091876e-10\n",
      "Gmres(11) iteration complete. Remaining residual: 2.149220e-10\n",
      "Gmres(12) iteration complete. Remaining residual: 1.995050e-11\n",
      "Gmres has converged in 12 iterations: RelativeResidual - The residual magnitude has decreased to a fraction of 0.0001 of its initial value or below (3.82068e-05).\n",
      "NewtonRaphson(2) iteration complete (0 globalization steps, step length 1). Remaining residual: 3.102034e-11\n",
      "NewtonRaphson has converged in 2 iterations: AbsoluteResidual - The residual magnitude has decreased to 1e-10 or below (3.10203e-11).\n",
      "Entering phase: Exit at time 00:00:06\n",
      "\n",
      "Done!\n",
      "Wall time: 00:00:06\n",
      "Date and time at completion: Fri Nov 10 00:17:14 2023\n",
      "\n",
      "[Partition 0][Node 0] End of program\n"
     ]
    }
   ],
   "source": [
    "SOLVE_XCTS = os.path.join(SPECTRE_BUILD_DIR, \"bin/SolveXcts\")\n",
    "!{SOLVE_XCTS} --input-file Kerr.yaml +auto-provision"
   ]
  },
  {
   "cell_type": "markdown",
   "metadata": {},
   "source": [
    "## Find horizons in the volume data\n",
    "\n",
    "We run the `FindHorizons3D` executable over the generated volume data:"
   ]
  },
  {
   "cell_type": "code",
   "execution_count": 61,
   "metadata": {},
   "outputs": [],
   "source": [
    "# Load example input file\n",
    "horizons_input_file_path = os.path.join(\n",
    "    SPECTRE_HOME, \"tests/InputFiles/FindHorizons/FindHorizons3D.yaml\"\n",
    ")\n",
    "with open(horizons_input_file_path, \"r\") as open_input_file:\n",
    "    horizons_input_file = list(yaml.load_all(open_input_file))\n",
    "\n",
    "    # Modify Kerr-Schild example input file\n",
    "    # - Select the same domain that we solved above\n",
    "    horizons_input_file[1][\"DomainCreator\"] = deepcopy(\n",
    "        kerr_input_file[1][\"DomainCreator\"]\n",
    "    )\n",
    "    del horizons_input_file[1][\"DomainCreator\"][\"Sphere\"][\"OuterBoundaryCondition\"]\n",
    "    horizons_input_file[1][\"DomainCreator\"][\"Sphere\"][\"Interior\"] = \"Excise\"\n",
    "    # - Set importer file names\n",
    "    importer_params = horizons_input_file[1][\"Importers\"][\"VolumeData\"]\n",
    "    importer_params[\"FileGlob\"] = \"KerrVolume*.h5\"\n",
    "    importer_params[\"ObservationValue\"] = \"Last\"\n",
    "    # - AH finder parameters\n",
    "    ah_params = horizons_input_file[1][\"ApparentHorizons\"][\"AhA\"]\n",
    "    ah_params[\"InitialGuess\"][\"Radius\"] = 1.0\n",
    "    # - Set output file names\n",
    "    horizons_input_file[1][\"Observers\"][\"VolumeFileName\"] = \"FindHorizonsVolume\"\n",
    "    horizons_input_file[1][\"Observers\"][\"ReductionFileName\"] = \"FindHorizonsReductions\"\n",
    "    horizons_input_file[1][\"Observers\"][\"SurfaceFileName\"] = \"FindHorizonsSurfaces\"\n",
    "\n",
    "    # Write modified input file\n",
    "    with open(\"FindHorizons.yaml\", \"w\") as open_input_file:\n",
    "        yaml.dump_all(horizons_input_file, open_input_file)"
   ]
  },
  {
   "cell_type": "code",
   "execution_count": 62,
   "metadata": {},
   "outputs": [
    {
     "name": "stdout",
     "output_type": "stream",
     "text": [
      "Charm++: standalone mode (not using charmrun)\n",
      "Charm++> Running in Multicore mode: 20 threads (PEs)\n",
      "Converse/Charm++ Commit ID: v7.0.0\n",
      "CharmLB> Load balancer assumes all CPUs are same.\n",
      "Charm++> Running on 1 hosts (1 sockets x 10 cores x 2 PUs = 20-way SMP)\n",
      "Charm++> cpu topology info is gathered in 0.000 seconds.\n",
      "\n",
      "Executing 'FindHorizons3D' using 20 processors.\n",
      "Launch command line: /home/himanshu/Desktop/spectre/build-Shared_libs-Release/bin/FindHorizons3D --input-file FindHorizons.yaml\n",
      "Charm++ startup time in seconds: 0.021654\n",
      "Date and time at startup: Fri Nov 10 00:17:17 2023\n",
      "\n",
      "SpECTRE Build Information:\n",
      "Version:                      2023.10.11\n",
      "Compiled on host:             0e335e144dbb\n",
      "Compiled in directory:        /home/himanshu/Desktop/spectre/build-Shared_libs-Release\n",
      "Source directory is:          /home/himanshu/Desktop/spectre\n",
      "Compiled on git branch:       develop\n",
      "Compiled on git revision:     006ed0ff93\n",
      "Linked on:                    Thu Oct  5 01:54:50 2023\n",
      "Build type:                   Release\n",
      "\n",
      "The following options differ from their suggested values:\n",
      "\n",
      "Option parsing completed.\n",
      "\n",
      "Allocating Singletons:\n",
      "AhA on node 0, global proc 0, exclusive = true\n",
      "\n",
      "\n",
      "----- Domain Info -----\n",
      "Total blocks: 6\n",
      "Total elements: 6\n",
      "Total grid points: 3072\n",
      "Number of cores: 20\n",
      "Number of nodes: 1\n",
      "Elements per core: (0,1,1,1,1,1,1,0,0,0,0,0,0,0,0,0,0,0,0,0)\n",
      "Elements per node: (6)\n",
      "Grid points per core: (0,512,512,512,512,512,512,0,0,0,0,0,0,0,0,0,0,0,0,0)\n",
      "Grid points per node: (3072)\n",
      "-----------------------\n",
      "\n",
      "Entering phase: Register at time 00:00:00\n",
      "Entering phase: Execute at time 00:00:00\n",
      "AhA: t=0: its=0: -6.7e-01<R<-7e-01, |R|=0.7, |R_grid|=0.7, 1<r<1\n",
      "AhA: t=0: its=1: -5.3e-01<R<-5e-01, |R|=0.5, |R_grid|=0.5, 1.339<r<1.339\n",
      "AhA: t=0: its=2: -3.5e-01<R<-3e-01, |R|=0.3, |R_grid|=0.3, 1.609<r<1.609\n",
      "AhA: t=0: its=3: -2.0e-01<R<-2e-01, |R|=0.2, |R_grid|=0.2, 1.787<r<1.787\n",
      "AhA: t=0: its=4: -1.1e-01<R<-1e-01, |R|=0.1, |R_grid|=0.1, 1.889<r<1.889\n",
      "AhA: t=0: its=5: -5.6e-02<R<-5e-02, |R|=0.06, |R_grid|=0.06, 1.944<r<1.944\n",
      "AhA: t=0: its=6: -2.8e-02<R<-3e-02, |R|=0.03, |R_grid|=0.03, 1.972<r<1.972\n",
      "AhA: t=0: its=7: -1.4e-02<R<-1e-02, |R|=0.01, |R_grid|=0.01, 1.986<r<1.986\n",
      "AhA: t=0: its=8: -7.0e-03<R<-6e-03, |R|=0.007, |R_grid|=0.007, 1.993<r<1.993\n",
      "AhA: t=0: its=9: -3.6e-03<R<-3e-03, |R|=0.003, |R_grid|=0.003, 1.997<r<1.997\n",
      "AhA: t=0: its=10: -1.9e-03<R<-1e-03, |R|=0.002, |R_grid|=0.002, 1.998<r<1.998\n",
      "AhA: t=0: its=11: -1.0e-03<R<-4e-04, |R|=0.0008, |R_grid|=0.0008, 1.999<r<1.999\n",
      "AhA: t=0: its=12: -6.3e-04<R<2e-05, |R|=0.0004, |R_grid|=0.0004, 2<r<2\n",
      "AhA: t=0: its=13: -4.3e-04<R<2e-04, |R|=0.0002, |R_grid|=0.0002, 2<r<2\n",
      "AhA: t=0: its=14: -3.3e-04<R<3e-04, |R|=0.0001, |R_grid|=0.0001, 2<r<2\n",
      "AhA: t=0: its=15: -2.8e-04<R<4e-04, |R|=5e-05, |R_grid|=0.0001, 2<r<2\n",
      "AhA: t=0: its=16: -2.6e-04<R<4e-04, |R|=2e-05, |R_grid|=0.0001, 2<r<2\n",
      "AhA: t=0: its=17: -2.4e-04<R<4e-04, |R|=1e-05, |R_grid|=9e-05, 2<r<2\n",
      "AhA: t=0: its=18: -2.4e-04<R<4e-04, |R|=6e-06, |R_grid|=9e-05, 2<r<2\n",
      "AhA: t=0: its=19: -2.4e-04<R<4e-04, |R|=3e-06, |R_grid|=9e-05, 2<r<2\n",
      "AhA: t=0: its=20: -2.3e-04<R<4e-04, |R|=1e-06, |R_grid|=9e-05, 2<r<2\n",
      "AhA: t=0: its=21: -2.3e-04<R<4e-04, |R|=7e-07, |R_grid|=9e-05, 2<r<2\n",
      "Entering phase: Exit at time 00:00:02\n",
      "\n",
      "Done!\n",
      "Wall time: 00:00:02\n",
      "Date and time at completion: Fri Nov 10 00:17:19 2023\n",
      "\n",
      "[Partition 0][Node 0] End of program\n"
     ]
    }
   ],
   "source": [
    "FIND_HORIZONS = os.path.join(SPECTRE_BUILD_DIR, \"bin/FindHorizons3D\")\n",
    "!{FIND_HORIZONS} --input-file FindHorizons.yaml +auto-provision"
   ]
  },
  {
   "cell_type": "markdown",
   "metadata": {},
   "source": [
    "## Horizon quantities\n",
    "\n",
    "The horizon finder measures a few surface quantities:"
   ]
  },
  {
   "cell_type": "code",
   "execution_count": 63,
   "metadata": {},
   "outputs": [],
   "source": [
    "# These routines read the data and process them a bit. You can skip them to see\n",
    "# the results below.\n",
    "\n",
    "\n",
    "def load_dataset(subfile):\n",
    "    legend = subfile.attrs[\"Legend\"]\n",
    "    return pd.DataFrame(data=subfile, columns=legend).set_index(legend[0])"
   ]
  },
  {
   "cell_type": "code",
   "execution_count": 64,
   "metadata": {},
   "outputs": [],
   "source": [
    "with h5py.File(\"FindHorizonsReductions.h5\", \"r\") as open_h5_file:\n",
    "    ah = load_dataset(open_h5_file[\"AhA.dat\"])"
   ]
  },
  {
   "cell_type": "code",
   "execution_count": 65,
   "metadata": {},
   "outputs": [
    {
     "name": "stdout",
     "output_type": "stream",
     "text": [
      "           Area  IrreducibleMass  MaxRicciScalar  MinRicciScalar  ChristodoulouMass  DimensionlessSpinMagnitude\n",
      "Time                                                                                                           \n",
      "0.0   50.267921         1.000024        0.500223        0.499537           1.000024                3.565439e-16\n"
     ]
    }
   ],
   "source": [
    "print(ah.to_string())"
   ]
  }
 ],
 "metadata": {
  "kernelspec": {
   "display_name": "env",
   "language": "python",
   "name": "python3"
  },
  "language_info": {
   "codemirror_mode": {
    "name": "ipython",
    "version": 3
   },
   "file_extension": ".py",
   "mimetype": "text/x-python",
   "name": "python",
   "nbconvert_exporter": "python",
   "pygments_lexer": "ipython3",
   "version": "3.11.5"
  },
  "orig_nbformat": 4,
  "vscode": {
   "interpreter": {
    "hash": "33f2fa244f4ae14fe329e2172e0e797bd6345c2292452c255427e53fae88dae4"
   }
  }
 },
 "nbformat": 4,
 "nbformat_minor": 2
}
